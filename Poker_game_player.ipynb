{
 "cells": [
  {
   "cell_type": "markdown",
   "metadata": {},
   "source": [
    "# Spieler Script"
   ]
  },
  {
   "cell_type": "code",
   "execution_count": 1,
   "metadata": {},
   "outputs": [],
   "source": [
    "import random\n",
    "import play_poker as po"
   ]
  },
  {
   "cell_type": "markdown",
   "metadata": {},
   "source": [
    "## Wer spielt?"
   ]
  },
  {
   "cell_type": "code",
   "execution_count": 2,
   "metadata": {},
   "outputs": [
    {
     "name": "stdout",
     "output_type": "stream",
     "text": [
      "Number of players: 5\n"
     ]
    }
   ],
   "source": [
    "# lege Anzahl an Spielern fest (Zelle dazu ausführen)\n",
    "n_spieler = po.number_of_players()"
   ]
  },
  {
   "cell_type": "code",
   "execution_count": 3,
   "metadata": {},
   "outputs": [],
   "source": [
    "# lege fest wie viel offene Karten auf dem Tisch liegen (Standard ist 5)\n",
    "offene_karten = 5"
   ]
  },
  {
   "cell_type": "code",
   "execution_count": 4,
   "metadata": {
    "scrolled": true
   },
   "outputs": [
    {
     "name": "stdout",
     "output_type": "stream",
     "text": [
      "Name of player 1: Anton\n",
      "Name of player 2: Rafa\n",
      "Name of player 3: Tico\n",
      "Name of player 4: Alex\n",
      "Name of player 5: Jens\n"
     ]
    }
   ],
   "source": [
    "# lege die Spieler fest (Zelle dazu ausführen)\n",
    "spieler = po.player_names(n_spieler)"
   ]
  },
  {
   "cell_type": "code",
   "execution_count": 5,
   "metadata": {},
   "outputs": [
    {
     "name": "stdout",
     "output_type": "stream",
     "text": [
      "Enter your name: Rafa\n",
      "\n",
      "Du hast die Spielernummer  2\n"
     ]
    }
   ],
   "source": [
    "# gebe deinen Namen an (Zelle dazu ausführen)\n",
    "name = po.your_name(spieler, n_spieler)"
   ]
  },
  {
   "cell_type": "markdown",
   "metadata": {},
   "source": [
    "## Passwort"
   ]
  },
  {
   "cell_type": "code",
   "execution_count": 10,
   "metadata": {},
   "outputs": [
    {
     "name": "stdout",
     "output_type": "stream",
     "text": [
      "Enter the first part of the password: 1002\n",
      "Enter the second part of the password: 4008\n"
     ]
    }
   ],
   "source": [
    "# gebe dein Passwort ein (Zelle dazu ausführen)\n",
    "\n",
    "passwort = po.enter_password()"
   ]
  },
  {
   "cell_type": "markdown",
   "metadata": {},
   "source": [
    "----\n",
    " \n",
    " \n",
    "____\n",
    " \n",
    " \n",
    "____\n",
    " \n",
    " \n",
    " \n",
    "----\n",
    " \n",
    " \n",
    " ____\n",
    " \n",
    " \n",
    " ____\n",
    " \n",
    " \n",
    " ____\n",
    " \n",
    " \n",
    " ____\n",
    " \n",
    " ## Spielstart"
   ]
  },
  {
   "cell_type": "code",
   "execution_count": 8,
   "metadata": {},
   "outputs": [
    {
     "name": "stdout",
     "output_type": "stream",
     "text": [
      "Enter the seed: 1111111\n"
     ]
    }
   ],
   "source": [
    "# lege den seed fest (Zelle dazu ausführen)\n",
    "# und du ziehst automatisch deine Karten\n",
    "deine_karten = po.enter_seed(n_spieler, offene_karten, passwort)"
   ]
  },
  {
   "cell_type": "markdown",
   "metadata": {},
   "source": [
    " ----\n",
    " \n",
    " \n",
    " ____\n",
    " "
   ]
  },
  {
   "cell_type": "markdown",
   "metadata": {},
   "source": [
    "## Meine Karten"
   ]
  },
  {
   "cell_type": "code",
   "execution_count": 11,
   "metadata": {},
   "outputs": [
    {
     "name": "stdout",
     "output_type": "stream",
     "text": [
      "Rafa\n",
      "     ♠ 9     --     ♠ 7\n"
     ]
    },
    {
     "data": {
      "image/png": "[encoded data removed]",
      "text/plain": [
       "<Figure size 432x288 with 1 Axes>"
      ]
     },
     "metadata": {
      "needs_background": "light"
     },
     "output_type": "display_data"
    }
   ],
   "source": [
    "# Karten einsehen \n",
    "po.siehe_karten(name, [deine_karten[0], deine_karten[1]], passwort[0], passwort[1], spieler)"
   ]
  },
  {
   "cell_type": "code",
   "execution_count": null,
   "metadata": {},
   "outputs": [],
   "source": [
    "# gehe wieder zum Spielstart...\n"
   ]
  }
 ],
 "metadata": {
  "kernelspec": {
   "display_name": "Python 3",
   "language": "python",
   "name": "python3"
  },
  "language_info": {
   "codemirror_mode": {
    "name": "ipython",
    "version": 3
   },
   "file_extension": ".py",
   "mimetype": "text/x-python",
   "name": "python",
   "nbconvert_exporter": "python",
   "pygments_lexer": "ipython3",
   "version": "3.7.4"
  }
 },
 "nbformat": 4,
 "nbformat_minor": 4
}
