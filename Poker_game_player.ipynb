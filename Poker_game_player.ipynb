{
 "cells": [
  {
   "cell_type": "markdown",
   "metadata": {},
   "source": [
    "# Spieler Script"
   ]
  },
  {
   "cell_type": "code",
   "execution_count": null,
   "metadata": {},
   "outputs": [],
   "source": [
    "import random\n",
    "import play_poker as po"
   ]
  },
  {
   "cell_type": "markdown",
   "metadata": {},
   "source": [
    "## Wer spielt?"
   ]
  },
  {
   "cell_type": "code",
   "execution_count": null,
   "metadata": {},
   "outputs": [],
   "source": [
    "# lege die Spieler fest\n",
    "spieler = (\"Spieler: \", \"Anton\", \"Rafa\", \"Tico\", \"Alex\", \"Jens\", \"\", \"\", \"\")\n",
    "\n",
    "n_spieler = 5\n",
    "offene_karten = 5\n",
    "\n",
    "spieler_dict = {}\n",
    "for index in range(1, (n_spieler + 1)):\n",
    "    spieler_dict[f\"{spieler[index]}\"] = index"
   ]
  },
  {
   "cell_type": "code",
   "execution_count": null,
   "metadata": {},
   "outputs": [],
   "source": [
    "# gebe deinen Namen ein um deine Spielernummer herauszufinden\n",
    "print(\"Deine Spielernummer ist: \", spieler_dict[\"deinName\"])"
   ]
  },
  {
   "cell_type": "markdown",
   "metadata": {},
   "source": [
    "## Passwort"
   ]
  },
  {
   "cell_type": "code",
   "execution_count": null,
   "metadata": {},
   "outputs": [],
   "source": [
    "# gebe dein Passwort ein\n",
    "p1 = deinPasswort1\n",
    "p2 = deinPasswort2"
   ]
  },
  {
   "cell_type": "markdown",
   "metadata": {},
   "source": [
    " ----\n",
    " \n",
    " \n",
    " ____\n",
    " \n",
    " \n",
    " ____\n",
    " \n",
    " \n",
    " ____\n",
    " \n",
    " ## Spielstart"
   ]
  },
  {
   "cell_type": "code",
   "execution_count": null,
   "metadata": {},
   "outputs": [],
   "source": [
    "# lege den seed fest\n",
    "seed = 1111111"
   ]
  },
  {
   "cell_type": "code",
   "execution_count": null,
   "metadata": {},
   "outputs": [],
   "source": [
    "# und Karten von Bedeutung\n",
    "karten_im_spiel = po.alle_karten(seed, n_spieler, offene_karten)\n",
    "KarteNr1 = karten_im_spiel[po.part][p1]\n",
    "KarteNr2 = karten_im_spiel[po.part][p2]"
   ]
  },
  {
   "cell_type": "markdown",
   "metadata": {},
   "source": [
    " ----\n",
    " \n",
    " \n",
    " ____\n",
    " \n",
    " "
   ]
  },
  {
   "cell_type": "markdown",
   "metadata": {},
   "source": [
    "## Meine Karten"
   ]
  },
  {
   "cell_type": "code",
   "execution_count": null,
   "metadata": {},
   "outputs": [],
   "source": [
    "# gebe deinen Vornamen ein \n",
    "deinName = [KarteNr1, KarteNr2]\n",
    "\n",
    "# meine Karten \n",
    "po.siehe_karten(\"deinName\", deinName, p1, p2, spieler)"
   ]
  },
  {
   "cell_type": "code",
   "execution_count": null,
   "metadata": {},
   "outputs": [],
   "source": [
    "# gehe wieder zum Spielstart...\n"
   ]
  }
 ],
 "metadata": {
  "kernelspec": {
   "display_name": "Python 3",
   "language": "python",
   "name": "python3"
  },
  "language_info": {
   "codemirror_mode": {
    "name": "ipython",
    "version": 3
   },
   "file_extension": ".py",
   "mimetype": "text/x-python",
   "name": "python",
   "nbconvert_exporter": "python",
   "pygments_lexer": "ipython3",
   "version": "3.7.7"
  }
 },
 "nbformat": 4,
 "nbformat_minor": 4
}
