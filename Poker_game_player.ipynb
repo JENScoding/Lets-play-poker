{
 "cells": [
  {
   "cell_type": "markdown",
   "metadata": {},
   "source": [
    "# Spieler Script"
   ]
  },
  {
   "cell_type": "code",
   "execution_count": null,
   "metadata": {},
   "outputs": [],
   "source": [
    "import random\n",
    "import play_poker as po"
   ]
  },
  {
   "cell_type": "markdown",
   "metadata": {},
   "source": [
    "## Wer spielt?"
   ]
  },
  {
   "cell_type": "code",
   "execution_count": null,
   "metadata": {},
   "outputs": [],
   "source": [
    "# lege Anzahl an Spielern fest (Zelle dazu ausführen)\n",
    "n_spieler = po.anzahl_spieler()"
   ]
  },
  {
   "cell_type": "code",
   "execution_count": null,
   "metadata": {},
   "outputs": [],
   "source": [
    "# lege fest wie viel offene Karten auf dem Tisch liegen (Standard ist 5)\n",
    "offene_karten = 5"
   ]
  },
  {
   "cell_type": "code",
   "execution_count": null,
   "metadata": {
    "scrolled": false
   },
   "outputs": [],
   "source": [
    "# lege die Spieler fest (Zelle dazu ausführen)\n",
    "spieler = po.spieler_namen(n_spieler)"
   ]
  },
  {
   "cell_type": "code",
   "execution_count": null,
   "metadata": {
    "scrolled": true
   },
   "outputs": [],
   "source": [
    "# gebe deinen Namen an (Zelle dazu ausführen)\n",
    "name = po.dein_name(spieler, n_spieler)"
   ]
  },
  {
   "cell_type": "markdown",
   "metadata": {},
   "source": [
    "## Passwort"
   ]
  },
  {
   "cell_type": "code",
   "execution_count": null,
   "metadata": {
    "scrolled": true
   },
   "outputs": [],
   "source": [
    "# gebe dein Passwort ein (Zelle dazu ausführen)\n",
    "\n",
    "passwort = po.enter_password()"
   ]
  },
  {
   "cell_type": "markdown",
   "metadata": {},
   "source": [
    "----\n",
    " \n",
    " \n",
    "____\n",
    " \n",
    " \n",
    "____\n",
    " \n",
    " \n",
    " \n",
    "----\n",
    " \n",
    " \n",
    " ____\n",
    " \n",
    " \n",
    " ____\n",
    " \n",
    " \n",
    " ____\n",
    " \n",
    " \n",
    " ____\n",
    " \n",
    " ## Spielstart"
   ]
  },
  {
   "cell_type": "code",
   "execution_count": null,
   "metadata": {},
   "outputs": [],
   "source": [
    "# lege den seed fest (Zelle dazu ausführen)\n",
    "# und du ziehst automatisch deine Karten\n",
    "deine_karten = po.enter_seed(n_spieler, offene_karten, passwort)"
   ]
  },
  {
   "cell_type": "markdown",
   "metadata": {},
   "source": [
    " ----\n",
    " \n",
    " \n",
    " ____\n",
    " "
   ]
  },
  {
   "cell_type": "markdown",
   "metadata": {},
   "source": [
    "## Meine Karten"
   ]
  },
  {
   "cell_type": "code",
   "execution_count": null,
   "metadata": {},
   "outputs": [],
   "source": [
    "# Karten einsehen \n",
    "po.siehe_karten(name, [deine_karten[0], deine_karten[1]], passwort[0], passwort[1], spieler)"
   ]
  },
  {
   "cell_type": "code",
   "execution_count": null,
   "metadata": {},
   "outputs": [],
   "source": [
    "# gehe wieder zum Spielstart...\n"
   ]
  }
 ],
 "metadata": {
  "kernelspec": {
   "display_name": "Python 3",
   "language": "python",
   "name": "python3"
  },
  "language_info": {
   "codemirror_mode": {
    "name": "ipython",
    "version": 3
   },
   "file_extension": ".py",
   "mimetype": "text/x-python",
   "name": "python",
   "nbconvert_exporter": "python",
   "pygments_lexer": "ipython3",
   "version": "3.7.4"
  }
 },
 "nbformat": 4,
 "nbformat_minor": 4
}
