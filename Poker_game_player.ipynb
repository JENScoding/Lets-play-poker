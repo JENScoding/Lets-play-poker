{
 "cells": [
  {
   "cell_type": "code",
   "execution_count": null,
   "metadata": {},
   "outputs": [],
   "source": [
    "import random\n",
    "import play_poker as po"
   ]
  },
  {
   "cell_type": "code",
   "execution_count": null,
   "metadata": {},
   "outputs": [],
   "source": [
    "# gebe dein Passwort ein\n",
    "p1 = ...\n",
    "p2 = ..."
   ]
  },
  {
   "cell_type": "code",
   "execution_count": null,
   "metadata": {},
   "outputs": [],
   "source": [
    "# lege den seed fest\n",
    "seed = 1111111"
   ]
  },
  {
   "cell_type": "code",
   "execution_count": null,
   "metadata": {},
   "outputs": [],
   "source": [
    "# und Karten von Bedeutung\n",
    "import play_poker as po\n",
    "karten_im_spiel = po.alle_karten(seed)\n",
    "KarteNr1 = karten_im_spiel[po.part][p1]\n",
    "KarteNr2 = karten_im_spiel[po.part][p2]"
   ]
  },
  {
   "cell_type": "markdown",
   "metadata": {},
   "source": [
    " ----\n",
    " \n",
    " \n",
    " ____\n",
    " \n",
    " \n",
    " ____\n",
    " \n",
    " \n",
    " ____\n",
    " "
   ]
  },
  {
   "cell_type": "markdown",
   "metadata": {},
   "source": [
    "## Meine Karten"
   ]
  },
  {
   "cell_type": "code",
   "execution_count": null,
   "metadata": {},
   "outputs": [],
   "source": [
    "# gebe deinen Vornamen ein und dein Passwort\n",
    "deinName = [KarteNr1, KarteNr2]"
   ]
  },
  {
   "cell_type": "code",
   "execution_count": null,
   "metadata": {
    "scrolled": false
   },
   "outputs": [],
   "source": [
    "# meine Karten (hier Alex' Perspektive)\n",
    "po.siehe_karten(\"deinName\", deinName, p1, p2)"
   ]
  },
  {
   "cell_type": "code",
   "execution_count": null,
   "metadata": {},
   "outputs": [],
   "source": [
    "# gehe wieder zum Spielstart...\n"
   ]
  }
 ],
 "metadata": {
  "kernelspec": {
   "display_name": "Python 3",
   "language": "python",
   "name": "python3"
  },
  "language_info": {
   "codemirror_mode": {
    "name": "ipython",
    "version": 3
   },
   "file_extension": ".py",
   "mimetype": "text/x-python",
   "name": "python",
   "nbconvert_exporter": "python",
   "pygments_lexer": "ipython3",
   "version": "3.7.7"
  }
 },
 "nbformat": 4,
 "nbformat_minor": 4
}
