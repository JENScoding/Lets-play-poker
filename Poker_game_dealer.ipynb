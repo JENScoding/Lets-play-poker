{
 "cells": [
  {
   "cell_type": "code",
   "execution_count": 1,
   "metadata": {},
   "outputs": [],
   "source": [
    "import numpy as np\n",
    "import random\n",
    "import matplotlib.pyplot as plt\n",
    "import play_poker as po"
   ]
  },
  {
   "cell_type": "markdown",
   "metadata": {},
   "source": [
    "---\n",
    "\n",
    "---\n",
    "\n",
    "---\n",
    "\n",
    "---\n",
    "\n",
    "---\n",
    "\n",
    "#### Nur für Dealer"
   ]
  },
  {
   "cell_type": "code",
   "execution_count": 2,
   "metadata": {},
   "outputs": [],
   "source": [
    "Schlüssel = 2"
   ]
  },
  {
   "cell_type": "code",
   "execution_count": 3,
   "metadata": {},
   "outputs": [],
   "source": [
    "# Anton:\n",
    "schlüssel1 = po.a\n",
    "schlüssel2 = po.b\n",
    "\n",
    "# Rafa\n",
    "schlüssel3 = po.c\n",
    "schlüssel4 = po.d\n",
    "\n",
    "# Tico: \n",
    "schlüssel5 = po.e\n",
    "schlüssel6 = po.f\n",
    "\n",
    "# Alex:\n",
    "schlüssel7 = po.g\n",
    "schlüssel8 = po.h\n",
    "\n",
    "# Jens:\n",
    "schlüssel9 = po.i\n",
    "schlüssel10 = po.j"
   ]
  },
  {
   "cell_type": "markdown",
   "metadata": {},
   "source": [
    "---\n",
    "\n",
    "---\n",
    "\n",
    "---\n",
    "\n",
    "---\n",
    "\n",
    "---\n",
    "\n",
    "---\n",
    "\n",
    "---\n",
    "\n",
    "---\n",
    "\n",
    "---"
   ]
  },
  {
   "cell_type": "markdown",
   "metadata": {},
   "source": [
    "### Vor dem Spiel festzulegen:"
   ]
  },
  {
   "cell_type": "code",
   "execution_count": 4,
   "metadata": {},
   "outputs": [],
   "source": [
    "# Start-Geld\n",
    "bank_sp1 = np.array([100])\n",
    "bank_sp2 = np.array([100])\n",
    "bank_sp3 = np.array([100])\n",
    "bank_sp4 = np.array([100])\n",
    "bank_sp5 = np.array([100])\n",
    "bank_sp6 = np.array([100])\n",
    "bank_sp7 = np.array([100])\n",
    "bank_sp8 = np.array([100])\n",
    "bank = [bank_sp1, bank_sp2, bank_sp3, bank_sp4, \n",
    "        bank_sp5, bank_sp6, bank_sp7, bank_sp8]"
   ]
  },
  {
   "cell_type": "code",
   "execution_count": 5,
   "metadata": {},
   "outputs": [],
   "source": [
    "# Spielernamen eingeben\n",
    "bank_Anton = bank_sp1\n",
    "bank_Rafa = bank_sp2\n",
    "bank_Tico = bank_sp3\n",
    "bank_Alex = bank_sp4 \n",
    "bank_Jens = bank_sp5 \n",
    "#bank_sp6 \n",
    "#bank_sp7\n",
    "#bank_sp8 "
   ]
  },
  {
   "cell_type": "code",
   "execution_count": 6,
   "metadata": {},
   "outputs": [],
   "source": [
    "# Geldeinsätze\n",
    "geld_sp1 = np.array([0])\n",
    "geld_sp2 = np.array([0])\n",
    "geld_sp3 = np.array([0])\n",
    "geld_sp4 = np.array([0])\n",
    "geld_sp5 = np.array([0])\n",
    "geld_sp6 = np.array([0])\n",
    "geld_sp7 = np.array([0])\n",
    "geld_sp8 = np.array([0])\n",
    "geld_einsatz = [geld_sp1, geld_sp2, geld_sp3, geld_sp4, \n",
    "                geld_sp5, geld_sp6, geld_sp7, geld_sp8]"
   ]
  },
  {
   "cell_type": "code",
   "execution_count": 7,
   "metadata": {},
   "outputs": [],
   "source": [
    "# Spielernamen eingeben\n",
    "geld_Anton = geld_sp1\n",
    "geld_Rafa = geld_sp2\n",
    "geld_Tico = geld_sp3\n",
    "geld_Alex = geld_sp4 \n",
    "geld_Jens = geld_sp5 \n",
    "#geld_sp6 \n",
    "#geld_sp7\n",
    "#geld_sp8 "
   ]
  },
  {
   "cell_type": "markdown",
   "metadata": {},
   "source": [
    "## Spielstart"
   ]
  },
  {
   "cell_type": "code",
   "execution_count": 8,
   "metadata": {},
   "outputs": [],
   "source": [
    "runde = 1 # da 5 spieler dabei sind, ist nach Runde 5 wieder Runde 1"
   ]
  },
  {
   "cell_type": "code",
   "execution_count": 9,
   "metadata": {
    "scrolled": false
   },
   "outputs": [
    {
     "name": "stdout",
     "output_type": "stream",
     "text": [
      "Anton = [100] ; Rafa = [100] ; Tico = [100] ; Alex = [100] ; Jens = [100]\n"
     ]
    }
   ],
   "source": [
    "# aktueller Geldstand\n",
    "print(\"Anton =\", bank_Anton, \"; Rafa =\", bank_Rafa,\n",
    "     \"; Tico =\", bank_Tico, \"; Alex =\", bank_Alex,\n",
    "     \"; Jens =\", bank_Jens)"
   ]
  },
  {
   "cell_type": "code",
   "execution_count": 10,
   "metadata": {
    "scrolled": true
   },
   "outputs": [
    {
     "name": "stdout",
     "output_type": "stream",
     "text": [
      "7828\n"
     ]
    }
   ],
   "source": [
    "# lege den seed fest\n",
    "seed = int(np.random.randint(1,9999,1))\n",
    "print(seed)"
   ]
  },
  {
   "cell_type": "code",
   "execution_count": 11,
   "metadata": {},
   "outputs": [],
   "source": [
    "karten_im_spiel = po.alle_karten(seed)"
   ]
  },
  {
   "cell_type": "code",
   "execution_count": 12,
   "metadata": {},
   "outputs": [],
   "source": [
    "Anton = [karten_im_spiel[Schlüssel][schlüssel1], karten_im_spiel[Schlüssel][schlüssel2]]\n",
    "Rafa = [karten_im_spiel[Schlüssel][schlüssel3], karten_im_spiel[Schlüssel][schlüssel4]]\n",
    "Tico = [karten_im_spiel[Schlüssel][schlüssel5], karten_im_spiel[Schlüssel][schlüssel6]]\n",
    "Alex = [karten_im_spiel[Schlüssel][schlüssel7], karten_im_spiel[Schlüssel][schlüssel8]]\n",
    "Jens = [karten_im_spiel[Schlüssel][schlüssel9], karten_im_spiel[Schlüssel][schlüssel10]]"
   ]
  },
  {
   "cell_type": "markdown",
   "metadata": {},
   "source": [
    "### Runde 1 (Einsatz legen)"
   ]
  },
  {
   "cell_type": "code",
   "execution_count": 13,
   "metadata": {},
   "outputs": [
    {
     "name": "stdout",
     "output_type": "stream",
     "text": [
      "Small Blind:  Anton\n",
      "Big Blind:    Rafa\n",
      "Beginn:       Tico\n"
     ]
    }
   ],
   "source": [
    "SmallBlind = po.spieler[runde]\n",
    "print(\"Small Blind: \", SmallBlind)\n",
    "BigBlind = po.spieler[po.big_blind(runde + 1)]\n",
    "print(\"Big Blind:   \", BigBlind)\n",
    "beginn = po.spieler[po.beginn(runde + 2)]\n",
    "print(\"Beginn:      \", beginn)"
   ]
  },
  {
   "cell_type": "code",
   "execution_count": 14,
   "metadata": {},
   "outputs": [],
   "source": [
    "# erstes bieten (blinds legen)\n",
    "geld_Anton[0] = 0\n",
    "geld_Rafa[0] = 0 \n",
    "geld_Tico[0] = 0\n",
    "geld_Alex[0] = 0\n",
    "geld_Jens[0] = 0"
   ]
  },
  {
   "cell_type": "code",
   "execution_count": 15,
   "metadata": {
    "scrolled": true
   },
   "outputs": [
    {
     "name": "stdout",
     "output_type": "stream",
     "text": [
      "0\n"
     ]
    }
   ],
   "source": [
    "total_pot = po.pot(geld_einsatz)\n",
    "print(total_pot)"
   ]
  },
  {
   "cell_type": "markdown",
   "metadata": {},
   "source": [
    "### Runde 2 (ersten drei Karten)"
   ]
  },
  {
   "cell_type": "code",
   "execution_count": 16,
   "metadata": {},
   "outputs": [
    {
     "data": {
      "image/png": "[encoded data removed]",
      "text/plain": [
       "<Figure size 432x288 with 1 Axes>"
      ]
     },
     "metadata": {
      "needs_background": "light"
     },
     "output_type": "display_data"
    }
   ],
   "source": [
    "po.offenlegen(\"null\", karten_im_spiel)\n",
    "#po.offenlegen(\"flop\", karten_im_spiel)"
   ]
  },
  {
   "cell_type": "code",
   "execution_count": 17,
   "metadata": {},
   "outputs": [],
   "source": [
    "# Einsätze\n",
    "geld_Anton += 0\n",
    "geld_Rafa += 0 # Rafa raus \n",
    "geld_Tico += 0 # Tico raus \n",
    "geld_Alex += 0\n",
    "geld_Jens += 0"
   ]
  },
  {
   "cell_type": "code",
   "execution_count": 18,
   "metadata": {},
   "outputs": [
    {
     "name": "stdout",
     "output_type": "stream",
     "text": [
      "0\n"
     ]
    }
   ],
   "source": [
    "total_pot = po.pot(geld_einsatz)\n",
    "print(total_pot)"
   ]
  },
  {
   "cell_type": "markdown",
   "metadata": {},
   "source": [
    "### Runde 3 (vierte Karte)"
   ]
  },
  {
   "cell_type": "code",
   "execution_count": 19,
   "metadata": {},
   "outputs": [
    {
     "name": "stdout",
     "output_type": "stream",
     "text": [
      "     ♦ 5    --    ♠ 5    --    ♣ 3    --    ♠ D\n"
     ]
    },
    {
     "data": {
      "image/png": "[encoded data removed]",
      "text/plain": [
       "<Figure size 432x288 with 1 Axes>"
      ]
     },
     "metadata": {
      "needs_background": "light"
     },
     "output_type": "display_data"
    }
   ],
   "source": [
    "#po.offenlegen(\"null\", karten_im_spiel)\n",
    "po.offenlegen(\"turn\", karten_im_spiel)"
   ]
  },
  {
   "cell_type": "code",
   "execution_count": 20,
   "metadata": {},
   "outputs": [],
   "source": [
    "# Einsätze\n",
    "geld_Anton += 0\n",
    "geld_Rafa += 0 # Rafa raus \n",
    "geld_Tico += 0 # Tico raus\n",
    "geld_Alex += 0\n",
    "geld_Jens += 0"
   ]
  },
  {
   "cell_type": "code",
   "execution_count": 21,
   "metadata": {},
   "outputs": [
    {
     "name": "stdout",
     "output_type": "stream",
     "text": [
      "0\n"
     ]
    }
   ],
   "source": [
    "total_pot = po.pot(geld_einsatz)\n",
    "print(total_pot)"
   ]
  },
  {
   "cell_type": "markdown",
   "metadata": {},
   "source": [
    "### Runde 4 (fünfte Karte)"
   ]
  },
  {
   "cell_type": "code",
   "execution_count": 22,
   "metadata": {},
   "outputs": [
    {
     "name": "stdout",
     "output_type": "stream",
     "text": [
      "     ♦ 5    --    ♠ 5    --    ♣ 3    --    ♠ D     --     ♥ B\n"
     ]
    },
    {
     "data": {
      "image/png": "[encoded data removed]",
      "text/plain": [
       "<Figure size 432x288 with 1 Axes>"
      ]
     },
     "metadata": {
      "needs_background": "light"
     },
     "output_type": "display_data"
    }
   ],
   "source": [
    "#po.offenlegen(\"null\", karten_im_spiel)\n",
    "po.offenlegen(\"river\", karten_im_spiel)"
   ]
  },
  {
   "cell_type": "code",
   "execution_count": 23,
   "metadata": {},
   "outputs": [],
   "source": [
    "# Einsätze\n",
    "geld_Anton += 0\n",
    "geld_Rafa += 0 # Rafa raus \n",
    "geld_Tico += 0 # Tico raus\n",
    "geld_Alex += 0\n",
    "geld_Jens += 0 # Jens raus"
   ]
  },
  {
   "cell_type": "code",
   "execution_count": 24,
   "metadata": {
    "scrolled": true
   },
   "outputs": [
    {
     "name": "stdout",
     "output_type": "stream",
     "text": [
      "0\n"
     ]
    }
   ],
   "source": [
    "total_pot = po.pot(geld_einsatz)\n",
    "print(total_pot)"
   ]
  },
  {
   "cell_type": "code",
   "execution_count": 25,
   "metadata": {
    "scrolled": false
   },
   "outputs": [
    {
     "name": "stdout",
     "output_type": "stream",
     "text": [
      "Anton\n",
      "     ♠ 3     --     ♦ 7\n"
     ]
    },
    {
     "data": {
      "image/png": "[encoded data removed]",
      "text/plain": [
       "<Figure size 432x288 with 1 Axes>"
      ]
     },
     "metadata": {
      "needs_background": "light"
     },
     "output_type": "display_data"
    },
    {
     "name": "stdout",
     "output_type": "stream",
     "text": [
      "Rafa\n",
      "     ♦ 3     --     ♦ B\n"
     ]
    },
    {
     "data": {
      "image/png": "[encoded data removed]",
      "text/plain": [
       "<Figure size 432x288 with 1 Axes>"
      ]
     },
     "metadata": {
      "needs_background": "light"
     },
     "output_type": "display_data"
    },
    {
     "name": "stdout",
     "output_type": "stream",
     "text": [
      "Tico\n",
      "     ♣ 8     --     ♥ D\n"
     ]
    },
    {
     "data": {
      "image/png": "[encoded data removed]",
      "text/plain": [
       "<Figure size 432x288 with 1 Axes>"
      ]
     },
     "metadata": {
      "needs_background": "light"
     },
     "output_type": "display_data"
    },
    {
     "name": "stdout",
     "output_type": "stream",
     "text": [
      "Alex\n",
      "     ♣ 2     --     ♦ K\n"
     ]
    },
    {
     "data": {
      "image/png": "[encoded data removed]",
      "text/plain": [
       "<Figure size 432x288 with 1 Axes>"
      ]
     },
     "metadata": {
      "needs_background": "light"
     },
     "output_type": "display_data"
    },
    {
     "name": "stdout",
     "output_type": "stream",
     "text": [
      "Jens\n",
      "     ♠ 9     --     ♠ 9\n"
     ]
    },
    {
     "data": {
      "image/png": "[encoded data removed]",
      "text/plain": [
       "<Figure size 432x288 with 1 Axes>"
      ]
     },
     "metadata": {
      "needs_background": "light"
     },
     "output_type": "display_data"
    },
    {
     "name": "stdout",
     "output_type": "stream",
     "text": [
      "     ♦ 5    --    ♠ 5    --    ♣ 3    --    ♠ D     --     ♥ B\n"
     ]
    },
    {
     "data": {
      "image/png": "[encoded data removed]",
      "text/plain": [
       "<Figure size 432x288 with 1 Axes>"
      ]
     },
     "metadata": {
      "needs_background": "light"
     },
     "output_type": "display_data"
    }
   ],
   "source": [
    "# offenlegen der Karten\n",
    "po.siehe_karten(\"Anton\", Anton, schlüssel1, schlüssel2)\n",
    "po.siehe_karten(\"Rafa\", Rafa, schlüssel3, schlüssel4)\n",
    "po.siehe_karten(\"Tico\", Tico, schlüssel5, schlüssel6)\n",
    "po.siehe_karten(\"Alex\", Alex, schlüssel7, schlüssel8)\n",
    "po.siehe_karten(\"Jens\", Jens, schlüssel9, schlüssel10)\n",
    "\n",
    "# und auf dem Tisch\n",
    "#po.offenlegen(\"null\", karten_im_spiel)\n",
    "po.offenlegen(\"river\", karten_im_spiel)"
   ]
  },
  {
   "cell_type": "code",
   "execution_count": 26,
   "metadata": {
    "scrolled": false
   },
   "outputs": [],
   "source": [
    "# der pot geht an den Sieger (alle anderen verlieren)\n",
    "po.sieger(\"Jens\", bank, geld_einsatz, total_pot)\n"
   ]
  },
  {
   "cell_type": "code",
   "execution_count": 27,
   "metadata": {},
   "outputs": [],
   "source": [
    "# gehe wieder zum Spielstart...\n"
   ]
  }
 ],
 "metadata": {
  "kernelspec": {
   "display_name": "Python 3",
   "language": "python",
   "name": "python3"
  },
  "language_info": {
   "codemirror_mode": {
    "name": "ipython",
    "version": 3
   },
   "file_extension": ".py",
   "mimetype": "text/x-python",
   "name": "python",
   "nbconvert_exporter": "python",
   "pygments_lexer": "ipython3",
   "version": "3.7.7"
  }
 },
 "nbformat": 4,
 "nbformat_minor": 4
}
