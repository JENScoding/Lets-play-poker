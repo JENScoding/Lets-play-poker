{
 "cells": [
  {
   "cell_type": "code",
   "execution_count": 2,
   "metadata": {},
   "outputs": [],
   "source": [
    "import numpy as np\n",
    "import random\n",
    "import matplotlib.pyplot as plt\n",
    "import matplotlib.patches as mpatches\n",
    "import play_poker as po"
   ]
  },
  {
   "cell_type": "markdown",
   "metadata": {},
   "source": [
    "---\n",
    "\n",
    "---\n",
    "\n",
    "---\n",
    "\n",
    "---\n",
    "\n",
    "---\n",
    "\n",
    "#### Nur für Dealer"
   ]
  },
  {
   "cell_type": "code",
   "execution_count": 29,
   "metadata": {},
   "outputs": [],
   "source": [
    "Schlüssel = 2"
   ]
  },
  {
   "cell_type": "code",
   "execution_count": null,
   "metadata": {},
   "outputs": [],
   "source": [
    "# Anton:\n",
    "schlüssel1 = pa.a\n",
    "schlüssel2 = pa.b\n",
    "\n",
    "# Rafa\n",
    "schlüssel3 = pa.c\n",
    "schlüssel4 = pa.d\n",
    "\n",
    "# Tico: \n",
    "schlüssel5 = pa.e\n",
    "schlüssel6 = pa.f\n",
    "\n",
    "# Alex:\n",
    "schlüssel7 = pa.g\n",
    "schlüssel8 = pa.h\n",
    "\n",
    "# Jens:\n",
    "schlüssel9 = pa.i\n",
    "schlüssel10 = pa.j"
   ]
  },
  {
   "cell_type": "markdown",
   "metadata": {},
   "source": [
    "---\n",
    "\n",
    "---\n",
    "\n",
    "---\n",
    "\n",
    "---\n",
    "\n",
    "---\n",
    "\n",
    "---\n",
    "\n",
    "---\n",
    "\n",
    "---\n",
    "\n",
    "---"
   ]
  },
  {
   "cell_type": "markdown",
   "metadata": {},
   "source": [
    "### Vor dem Spiel festzulegen:"
   ]
  },
  {
   "cell_type": "code",
   "execution_count": 5,
   "metadata": {},
   "outputs": [],
   "source": [
    "# Start-Geld\n",
    "bank_sp1 = np.array([100])\n",
    "bank_sp2 = np.array([100])\n",
    "bank_sp3 = np.array([100])\n",
    "bank_sp4 = np.array([100])\n",
    "bank_sp5 = np.array([100])\n",
    "bank_sp6 = np.array([100])\n",
    "bank_sp7 = np.array([100])\n",
    "bank_sp8 = np.array([100])"
   ]
  },
  {
   "cell_type": "code",
   "execution_count": 6,
   "metadata": {},
   "outputs": [],
   "source": [
    "# Spielernamen eingeben\n",
    "bank_Anton = bank_sp1\n",
    "bank_Rafa = bank_sp2\n",
    "bank_Tico = bank_sp3\n",
    "bank_Alex = bank_sp4 \n",
    "bank_Jens = bank_sp5 \n",
    "#bank_sp6 \n",
    "#bank_sp7\n",
    "#bank_sp8 "
   ]
  },
  {
   "cell_type": "code",
   "execution_count": 7,
   "metadata": {},
   "outputs": [],
   "source": [
    "# Geldeinsätze\n",
    "geld_sp1 = np.array([0])\n",
    "geld_sp2 = np.array([0])\n",
    "geld_sp3 = np.array([0])\n",
    "geld_sp4 = np.array([0])\n",
    "geld_sp5 = np.array([0])\n",
    "geld_sp6 = np.array([0])\n",
    "geld_sp7 = np.array([0])\n",
    "geld_sp8 = np.array([0])"
   ]
  },
  {
   "cell_type": "code",
   "execution_count": 8,
   "metadata": {},
   "outputs": [],
   "source": [
    "# Spielernamen eingeben\n",
    "geld_Anton = geld_sp1\n",
    "geld_Rafa = geld_sp2\n",
    "geld_Tico = geld_sp3\n",
    "geld_Alex = geld_sp4 \n",
    "geld_Jens = geld_sp5 \n",
    "#geld_sp6 \n",
    "#geld_sp7\n",
    "#geld_sp8 "
   ]
  },
  {
   "cell_type": "markdown",
   "metadata": {},
   "source": [
    "## Spielstart"
   ]
  },
  {
   "cell_type": "code",
   "execution_count": 9,
   "metadata": {
    "scrolled": true
   },
   "outputs": [
    {
     "name": "stdout",
     "output_type": "stream",
     "text": [
      "Anton = [100] ; Rafa = [100] ; Tico = [100] ; Alex = [100] ; Jens = [100]\n"
     ]
    }
   ],
   "source": [
    "# aktueller Geldstand\n",
    "print(\"Anton =\", bank_Anton, \"; Rafa =\", bank_Rafa,\n",
    "     \"; Tico =\", bank_Tico, \"; Alex =\", bank_Alex,\n",
    "     \"; Jens =\", bank_Jens)"
   ]
  },
  {
   "cell_type": "code",
   "execution_count": 30,
   "metadata": {},
   "outputs": [
    {
     "ename": "AttributeError",
     "evalue": "module 'play_poker' has no attribute 'alle_karten'",
     "output_type": "error",
     "traceback": [
      "\u001b[0;31m---------------------------------------------------------------------------\u001b[0m",
      "\u001b[0;31mAttributeError\u001b[0m                            Traceback (most recent call last)",
      "\u001b[0;32m<ipython-input-30-eb01e72096d8>\u001b[0m in \u001b[0;36m<module>\u001b[0;34m\u001b[0m\n\u001b[1;32m      1\u001b[0m \u001b[0mrandom\u001b[0m\u001b[0;34m.\u001b[0m\u001b[0mseed\u001b[0m\u001b[0;34m(\u001b[0m\u001b[0;36m1\u001b[0m\u001b[0;34m)\u001b[0m\u001b[0;34m\u001b[0m\u001b[0;34m\u001b[0m\u001b[0m\n\u001b[1;32m      2\u001b[0m \u001b[0;34m\u001b[0m\u001b[0m\n\u001b[0;32m----> 3\u001b[0;31m \u001b[0mkarten_im_spiel\u001b[0m \u001b[0;34m=\u001b[0m \u001b[0mpo\u001b[0m\u001b[0;34m.\u001b[0m\u001b[0malle_karten\u001b[0m\u001b[0;34m(\u001b[0m\u001b[0;34m)\u001b[0m\u001b[0;34m\u001b[0m\u001b[0;34m\u001b[0m\u001b[0m\n\u001b[0m",
      "\u001b[0;31mAttributeError\u001b[0m: module 'play_poker' has no attribute 'alle_karten'"
     ]
    }
   ],
   "source": [
    "random.seed(1)\n",
    "\n",
    "karten_im_spiel = po.alle_karten()"
   ]
  },
  {
   "cell_type": "code",
   "execution_count": 26,
   "metadata": {},
   "outputs": [],
   "source": [
    "Anton = [karten_im_spiel[Schlüssel][schlüssel1], karten_im_spiel[Schlüssel][schlüssel2]]\n",
    "Rafa = [karten_im_spiel[Schlüssel][schlüssel3], karten_im_spiel[Schlüssel][schlüssel4]]\n",
    "Tico = [karten_im_spiel[Schlüssel][schlüssel5], karten_im_spiel[Schlüssel][schlüssel6]]\n",
    "Alex = [karten_im_spiel[Schlüssel][schlüssel7], karten_im_spiel[Schlüssel][schlüssel8]]\n",
    "Jens = [karten_im_spiel[Schlüssel][schlüssel9], karten_im_spiel[Schlüssel][schlüssel10]]"
   ]
  },
  {
   "cell_type": "code",
   "execution_count": 28,
   "metadata": {},
   "outputs": [
    {
     "data": {
      "text/plain": [
       "15"
      ]
     },
     "execution_count": 28,
     "metadata": {},
     "output_type": "execute_result"
    }
   ],
   "source": [
    "len(karten_im_spiel[2])"
   ]
  },
  {
   "cell_type": "markdown",
   "metadata": {},
   "source": [
    "### Runde 1 (Einsatz legen)"
   ]
  },
  {
   "cell_type": "code",
   "execution_count": 94,
   "metadata": {},
   "outputs": [],
   "source": [
    "# Blinds: 1 small - Rafa, 2 big - Anton, Spieler der beginnt - Tico \n",
    "geld_Anton[0] = 2\n",
    "geld_Rafa[0] = 1 # Rafa raus \n",
    "geld_Tico[0] = 2\n",
    "geld_Alex[0] = 2\n",
    "geld_Jens[0] = 2"
   ]
  },
  {
   "cell_type": "code",
   "execution_count": 95,
   "metadata": {
    "scrolled": true
   },
   "outputs": [
    {
     "data": {
      "text/plain": [
       "9"
      ]
     },
     "execution_count": 95,
     "metadata": {},
     "output_type": "execute_result"
    }
   ],
   "source": [
    "pot()"
   ]
  },
  {
   "cell_type": "markdown",
   "metadata": {},
   "source": [
    "### Runde 2 (ersten drei Karten)"
   ]
  },
  {
   "cell_type": "code",
   "execution_count": 96,
   "metadata": {},
   "outputs": [
    {
     "name": "stdout",
     "output_type": "stream",
     "text": [
      "     ♠ 8    --    ♣ A    --    ♦ A\n"
     ]
    },
    {
     "data": {
      "image/png": "[encoded data removed]",
      "text/plain": [
       "<Figure size 432x288 with 1 Axes>"
      ]
     },
     "metadata": {
      "needs_background": "light"
     },
     "output_type": "display_data"
    }
   ],
   "source": [
    "offenlegen(\"flop\")"
   ]
  },
  {
   "cell_type": "code",
   "execution_count": 97,
   "metadata": {},
   "outputs": [],
   "source": [
    "# Einsätze\n",
    "geld_Anton += 5\n",
    "geld_Rafa += 0 # Rafa raus \n",
    "geld_Tico += 0 # Tico raus \n",
    "geld_Alex += 5\n",
    "geld_Jens += 5"
   ]
  },
  {
   "cell_type": "code",
   "execution_count": 98,
   "metadata": {},
   "outputs": [
    {
     "data": {
      "text/plain": [
       "24"
      ]
     },
     "execution_count": 98,
     "metadata": {},
     "output_type": "execute_result"
    }
   ],
   "source": [
    "pot()"
   ]
  },
  {
   "cell_type": "markdown",
   "metadata": {},
   "source": [
    "### Runde 3 (vierte Karte)"
   ]
  },
  {
   "cell_type": "code",
   "execution_count": 99,
   "metadata": {},
   "outputs": [
    {
     "name": "stdout",
     "output_type": "stream",
     "text": [
      "     ♠ 8    --    ♣ A    --    ♦ A    --    ♦ 5\n"
     ]
    },
    {
     "data": {
      "image/png": "[encoded data removed]",
      "text/plain": [
       "<Figure size 432x288 with 1 Axes>"
      ]
     },
     "metadata": {
      "needs_background": "light"
     },
     "output_type": "display_data"
    }
   ],
   "source": [
    "offenlegen(\"turn\")\n"
   ]
  },
  {
   "cell_type": "code",
   "execution_count": 100,
   "metadata": {},
   "outputs": [],
   "source": [
    "# Einsätze\n",
    "geld_Anton += 0\n",
    "geld_Rafa += 0 # Rafa raus \n",
    "geld_Tico += 0 # Tico raus\n",
    "geld_Alex += 0\n",
    "geld_Jens += 0"
   ]
  },
  {
   "cell_type": "code",
   "execution_count": 101,
   "metadata": {},
   "outputs": [
    {
     "data": {
      "text/plain": [
       "24"
      ]
     },
     "execution_count": 101,
     "metadata": {},
     "output_type": "execute_result"
    }
   ],
   "source": [
    "pot()"
   ]
  },
  {
   "cell_type": "markdown",
   "metadata": {},
   "source": [
    "### Runde 4 (fünfte Karte)"
   ]
  },
  {
   "cell_type": "code",
   "execution_count": 102,
   "metadata": {},
   "outputs": [
    {
     "name": "stdout",
     "output_type": "stream",
     "text": [
      "     ♠ 8    --    ♣ A    --    ♦ A    --    ♦ 5     --     ♦ 9\n"
     ]
    },
    {
     "data": {
      "image/png": "[encoded data removed]",
      "text/plain": [
       "<Figure size 432x288 with 1 Axes>"
      ]
     },
     "metadata": {
      "needs_background": "light"
     },
     "output_type": "display_data"
    }
   ],
   "source": [
    "offenlegen(\"river\")"
   ]
  },
  {
   "cell_type": "code",
   "execution_count": 103,
   "metadata": {},
   "outputs": [],
   "source": [
    "# Einsätze\n",
    "geld_Anton += 4\n",
    "geld_Rafa += 0 # Rafa raus \n",
    "geld_Tico += 0 # Tico raus\n",
    "geld_Alex += 4\n",
    "geld_Jens += 0 # Jens raus"
   ]
  },
  {
   "cell_type": "code",
   "execution_count": 104,
   "metadata": {},
   "outputs": [
    {
     "data": {
      "text/plain": [
       "32"
      ]
     },
     "execution_count": 104,
     "metadata": {},
     "output_type": "execute_result"
    }
   ],
   "source": [
    "pot()"
   ]
  },
  {
   "cell_type": "code",
   "execution_count": 105,
   "metadata": {},
   "outputs": [
    {
     "name": "stdout",
     "output_type": "stream",
     "text": [
      "     ♣ 9     --     ♣ 7\n"
     ]
    },
    {
     "data": {
      "image/png": "[encoded data removed]",
      "text/plain": [
       "<Figure size 432x288 with 1 Axes>"
      ]
     },
     "metadata": {
      "needs_background": "light"
     },
     "output_type": "display_data"
    },
    {
     "name": "stdout",
     "output_type": "stream",
     "text": [
      "     ♥ 10     --     ♠ A\n"
     ]
    },
    {
     "data": {
      "image/png": "[encoded data removed]",
      "text/plain": [
       "<Figure size 432x288 with 1 Axes>"
      ]
     },
     "metadata": {
      "needs_background": "light"
     },
     "output_type": "display_data"
    }
   ],
   "source": [
    "# offenlegen der Karten\n",
    "siehe_karten(\"Alex\", Alex, 12, 13); siehe_karten(\"Anton\", Anton, a, b)"
   ]
  },
  {
   "cell_type": "code",
   "execution_count": 106,
   "metadata": {
    "scrolled": false
   },
   "outputs": [],
   "source": [
    "# Alex wiedermal verzockt -- Sieger Anton\n",
    "# Neue Geldverteilung\n",
    "sieger(\"Anton\", bank_sp1, bank_sp2, bank_sp3, bank_sp4,\n",
    "          bank_sp5, bank_sp6, bank_sp7, bank_sp8)\n"
   ]
  },
  {
   "cell_type": "code",
   "execution_count": 32,
   "metadata": {},
   "outputs": [],
   "source": [
    "# gehe wieder zum Spielstart...\n"
   ]
  }
 ],
 "metadata": {
  "kernelspec": {
   "display_name": "Python 3",
   "language": "python",
   "name": "python3"
  },
  "language_info": {
   "codemirror_mode": {
    "name": "ipython",
    "version": 3
   },
   "file_extension": ".py",
   "mimetype": "text/x-python",
   "name": "python",
   "nbconvert_exporter": "python",
   "pygments_lexer": "ipython3",
   "version": "3.7.7"
  }
 },
 "nbformat": 4,
 "nbformat_minor": 4
}
