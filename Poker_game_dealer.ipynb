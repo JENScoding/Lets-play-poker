{
 "cells": [
  {
   "cell_type": "markdown",
   "metadata": {},
   "source": [
    "# Dealer Script"
   ]
  },
  {
   "cell_type": "code",
   "execution_count": 1,
   "metadata": {},
   "outputs": [],
   "source": [
    "import numpy as np\n",
    "from IPython.display import clear_output\n",
    "import play_poker as po "
   ]
  },
  {
   "cell_type": "markdown",
   "metadata": {},
   "source": [
    "## Wer spielt?"
   ]
  },
  {
   "cell_type": "code",
   "execution_count": 2,
   "metadata": {},
   "outputs": [
    {
     "name": "stdout",
     "output_type": "stream",
     "text": [
      "Anzahl Spieler: 5\n"
     ]
    }
   ],
   "source": [
    "# lege Anzahl an Spielern fest (Zelle dazu ausführen)\n",
    "n_spieler = po.anzahl_spieler()"
   ]
  },
  {
   "cell_type": "code",
   "execution_count": 3,
   "metadata": {},
   "outputs": [],
   "source": [
    "# lege fest wie viel offene Karten auf dem Tisch liegen (Standard ist 5)\n",
    "offene_karten = 5"
   ]
  },
  {
   "cell_type": "code",
   "execution_count": 4,
   "metadata": {
    "scrolled": true
   },
   "outputs": [
    {
     "name": "stdout",
     "output_type": "stream",
     "text": [
      "Name von Spieler 1: Anton\n",
      "Name von Spieler 2: Rafa\n",
      "Name von Spieler 3: Tico\n",
      "Name von Spieler 4: Alex\n",
      "Name von Spieler 5: Jens\n"
     ]
    }
   ],
   "source": [
    "# lege die Spieler fest (Zelle dazu ausführen)\n",
    "spieler = po.spieler_namen(n_spieler)\n",
    "spieler_dict = po.dict_spieler(spieler, n_spieler)"
   ]
  },
  {
   "cell_type": "markdown",
   "metadata": {},
   "source": [
    "---\n",
    "\n",
    "---\n",
    "\n",
    "---\n",
    "\n",
    "---\n",
    "\n",
    "---\n",
    "\n",
    "---\n",
    "\n",
    "---\n",
    "\n",
    "---\n",
    "\n",
    "---\n",
    "\n",
    "---\n",
    "\n",
    "---\n",
    "\n",
    "---\n",
    "\n",
    "#### Nur für Dealer"
   ]
  },
  {
   "cell_type": "code",
   "execution_count": 5,
   "metadata": {},
   "outputs": [],
   "source": [
    "Schlüssel = 1"
   ]
  },
  {
   "cell_type": "code",
   "execution_count": 6,
   "metadata": {},
   "outputs": [],
   "source": [
    "# Anton:\n",
    "schlüssel1 = int(po.a1 / po.mult)\n",
    "schlüssel2 = int(po.b1 / po.mult)\n",
    "\n",
    "# Rafa\n",
    "schlüssel3 = int(po.c1 / po.mult)\n",
    "schlüssel4 = int(po.d1 / po.mult)\n",
    "\n",
    "# Tico: \n",
    "schlüssel5 = int(po.e1 / po.mult)\n",
    "schlüssel6 = int(po.f1 / po.mult)\n",
    "\n",
    "# Alex:\n",
    "schlüssel7 = int(po.g1 / po.mult)\n",
    "schlüssel8 = int(po.h1 / po.mult)\n",
    "\n",
    "# Jens:\n",
    "schlüssel9 = int(po.i1 / po.mult)\n",
    "schlüssel10 = int(po.j1 / po.mult)\n",
    "\n",
    "# Johnny: \n",
    "schlüssel11 = int(po.k1 / po.mult)\n",
    "schlüssel12 = int(po.l1 / po.mult)\n",
    "\n",
    "# Jonas:\n",
    "schlüssel13 = int(po.m1 / po.mult)\n",
    "schlüssel14 = int(po.n1 / po.mult)\n",
    "\n",
    "# Quentin:\n",
    "schlüssel15 = int(po.o1 / po.mult)\n",
    "schlüssel16 = int(po.p1 / po.mult)"
   ]
  },
  {
   "cell_type": "markdown",
   "metadata": {},
   "source": [
    "---\n",
    "\n",
    "---\n",
    "\n",
    "---\n",
    "\n",
    "---\n",
    "\n",
    "---\n",
    "\n",
    "---\n",
    "\n",
    "---\n",
    "\n",
    "---\n",
    "\n",
    "---"
   ]
  },
  {
   "cell_type": "markdown",
   "metadata": {},
   "source": [
    "### Vor dem Spiel festzulegen:"
   ]
  },
  {
   "cell_type": "code",
   "execution_count": 7,
   "metadata": {},
   "outputs": [],
   "source": [
    "# Start-Geld\n",
    "start_geld = 100\n",
    "konto_sp1 = np.array([start_geld])\n",
    "konto_sp2 = np.array([start_geld])\n",
    "konto_sp3 = np.array([start_geld])\n",
    "konto_sp4 = np.array([start_geld])\n",
    "konto_sp5 = np.array([start_geld])\n",
    "konto_sp6 = np.array([start_geld])\n",
    "konto_sp7 = np.array([start_geld])\n",
    "konto_sp8 = np.array([start_geld])\n",
    "bank = [konto_sp1, konto_sp2, konto_sp3, konto_sp4, \n",
    "        konto_sp5, konto_sp6, konto_sp7, konto_sp8]"
   ]
  },
  {
   "cell_type": "code",
   "execution_count": 8,
   "metadata": {},
   "outputs": [],
   "source": [
    "# Geldeinsätze\n",
    "start = 0\n",
    "einsatz_spieler1 = np.array([start])\n",
    "einsatz_spieler2 = np.array([start])\n",
    "einsatz_spieler3 = np.array([start])\n",
    "einsatz_spieler4 = np.array([start])\n",
    "einsatz_spieler5 = np.array([start])\n",
    "einsatz_spieler6 = np.array([start])\n",
    "einsatz_spieler7 = np.array([start])\n",
    "einsatz_spieler8 = np.array([start])\n",
    "geld_einsatz = [einsatz_spieler1, einsatz_spieler2, einsatz_spieler3,\n",
    "                einsatz_spieler4, einsatz_spieler5, einsatz_spieler6,\n",
    "                einsatz_spieler7, einsatz_spieler8]\n",
    "fold = [False]*8"
   ]
  },
  {
   "cell_type": "code",
   "execution_count": 9,
   "metadata": {},
   "outputs": [
    {
     "name": "stdout",
     "output_type": "stream",
     "text": [
      "{1: 'Anton', 2: 'Rafa', 3: 'Tico', 4: 'Alex', 5: 'Jens'}\n"
     ]
    }
   ],
   "source": [
    "# wer hat welche Spielernummer (double check)\n",
    "print(spieler_dict)"
   ]
  },
  {
   "cell_type": "markdown",
   "metadata": {},
   "source": [
    "---\n",
    "\n",
    "---\n",
    "\n",
    "---\n",
    "\n",
    "---\n",
    "\n",
    "---\n",
    "\n",
    "---\n",
    "\n",
    "---\n",
    "\n",
    "---\n",
    "\n",
    "---\n",
    "\n",
    "---\n",
    "\n",
    "---\n",
    "\n",
    "---\n",
    "\n",
    "---"
   ]
  },
  {
   "cell_type": "markdown",
   "metadata": {},
   "source": [
    "## Spielstart"
   ]
  },
  {
   "cell_type": "code",
   "execution_count": 10,
   "metadata": {},
   "outputs": [],
   "source": [
    "spiel_runde = 1 # da 5 spieler dabei sind, ist nach Runde 5 wieder Runde 1"
   ]
  },
  {
   "cell_type": "code",
   "execution_count": 11,
   "metadata": {},
   "outputs": [],
   "source": [
    "# Blinds festlegen\n",
    "big_b = 2\n",
    "small_b = 1 "
   ]
  },
  {
   "cell_type": "code",
   "execution_count": 12,
   "metadata": {
    "scrolled": true
   },
   "outputs": [
    {
     "name": "stdout",
     "output_type": "stream",
     "text": [
      "{'Anton': 100, 'Rafa': 100, 'Tico': 100, 'Alex': 100, 'Jens': 100}\n"
     ]
    }
   ],
   "source": [
    "# aktueller Geldstand\n",
    "po.aktueller_stand(spieler, bank, n_spieler, start_geld)"
   ]
  },
  {
   "cell_type": "code",
   "execution_count": 13,
   "metadata": {
    "scrolled": true
   },
   "outputs": [
    {
     "data": {
      "image/png": "[encoded data removed]",
      "text/plain": [
       "<Figure size 432x288 with 1 Axes>"
      ]
     },
     "metadata": {
      "needs_background": "light"
     },
     "output_type": "display_data"
    }
   ],
   "source": [
    "# lege den seed fest\n",
    "seed = po.set_seed()"
   ]
  },
  {
   "cell_type": "code",
   "execution_count": 14,
   "metadata": {
    "scrolled": true
   },
   "outputs": [],
   "source": [
    "Anton = [po.karten_ziehen(seed, n_spieler, offene_karten)[Schlüssel][schlüssel1], po.karten_ziehen(seed, n_spieler, offene_karten)[Schlüssel][schlüssel2]]\n",
    "Rafa = [po.karten_ziehen(seed, n_spieler, offene_karten)[Schlüssel][schlüssel3], po.karten_ziehen(seed, n_spieler, offene_karten)[Schlüssel][schlüssel4]]\n",
    "Tico = [po.karten_ziehen(seed, n_spieler, offene_karten)[Schlüssel][schlüssel5], po.karten_ziehen(seed, n_spieler, offene_karten)[Schlüssel][schlüssel6]]\n",
    "Alex = [po.karten_ziehen(seed, n_spieler, offene_karten)[Schlüssel][schlüssel7], po.karten_ziehen(seed, n_spieler, offene_karten)[Schlüssel][schlüssel8]]\n",
    "Jens = [po.karten_ziehen(seed, n_spieler, offene_karten)[Schlüssel][schlüssel9], po.karten_ziehen(seed, n_spieler, offene_karten)[Schlüssel][schlüssel10]]"
   ]
  },
  {
   "cell_type": "markdown",
   "metadata": {},
   "source": [
    "### Runde 1 (Einsatz legen)"
   ]
  },
  {
   "cell_type": "code",
   "execution_count": 15,
   "metadata": {
    "scrolled": true
   },
   "outputs": [
    {
     "name": "stdout",
     "output_type": "stream",
     "text": [
      "Small Blind:  Anton  ->  1\n",
      "Big Blind:    Rafa  ->  2\n",
      "Beginn:       Anton\n"
     ]
    }
   ],
   "source": [
    "als_erster = po.info_blinds(spieler, spiel_runde, n_spieler, small_b, big_b)"
   ]
  },
  {
   "cell_type": "code",
   "execution_count": 16,
   "metadata": {
    "scrolled": true
   },
   "outputs": [
    {
     "name": "stdout",
     "output_type": "stream",
     "text": [
      "Anton: 2\n",
      "Einsatz insgesamt Anton: 2\n",
      "Rafa: 2\n",
      "Einsatz insgesamt Rafa: 2\n",
      "Tico: fold\n",
      "Einsatz insgesamt Tico: 0\n",
      "Alex: 2\n",
      "Einsatz insgesamt Alex: 2\n",
      "Jens: fold\n",
      "Einsatz insgesamt Jens: 0\n",
      "\n",
      "Go\n",
      "\n",
      "\n",
      "Pot:  6\n"
     ]
    }
   ],
   "source": [
    "# erstes bieten (blinds legen)                                    \n",
    "geld_einsatz = po.bieten(geld_einsatz, als_erster, spieler, n_spieler, spieler_dict, fold, bank, small_b)\n",
    "total_pot = po.pot(geld_einsatz)"
   ]
  },
  {
   "cell_type": "markdown",
   "metadata": {},
   "source": [
    "### Runde 2 (ersten drei Karten)"
   ]
  },
  {
   "cell_type": "code",
   "execution_count": 17,
   "metadata": {
    "scrolled": false
   },
   "outputs": [
    {
     "name": "stdout",
     "output_type": "stream",
     "text": [
      "     ♠ 6    --    ♣ 7    --    ♠ 8\n"
     ]
    },
    {
     "data": {
      "image/png": "[encoded data removed]",
      "text/plain": [
       "<Figure size 432x288 with 1 Axes>"
      ]
     },
     "metadata": {
      "needs_background": "light"
     },
     "output_type": "display_data"
    }
   ],
   "source": [
    "#po.offenlegen(\"null\", karten_im_spiel, n_spieler) # leerer Tisch\n",
    "po.offenlegen(\"flop\", po.karten_ziehen(seed, n_spieler, offene_karten), n_spieler)\n",
    "#clear_output() # loesche output"
   ]
  },
  {
   "cell_type": "code",
   "execution_count": 18,
   "metadata": {
    "scrolled": true
   },
   "outputs": [
    {
     "name": "stdout",
     "output_type": "stream",
     "text": [
      "Anton: 4\n",
      "Einsatz insgesamt Anton: 6\n",
      "Rafa: fold\n",
      "Einsatz insgesamt Rafa: 2\n",
      "Einsatz insgesamt Tico: out\n",
      "Alex: 4\n",
      "Einsatz insgesamt Alex: 6\n",
      "Einsatz insgesamt Jens: out\n",
      "\n",
      "Go\n",
      "\n",
      "\n",
      "Pot:  14\n"
     ]
    }
   ],
   "source": [
    "# Einsätze\n",
    "geld_einsatz = po.bieten(geld_einsatz, als_erster, spieler, n_spieler, spieler_dict, fold, bank, small_b)\n",
    "total_pot = po.pot(geld_einsatz)"
   ]
  },
  {
   "cell_type": "code",
   "execution_count": 19,
   "metadata": {},
   "outputs": [
    {
     "name": "stdout",
     "output_type": "stream",
     "text": [
      "{'Anton': 94, 'Rafa': 98, 'Tico': 100, 'Alex': 94, 'Jens': 100}\n"
     ]
    }
   ],
   "source": [
    "# check wie viel jeder nach Einsatz noch auf dem Konto hat\n",
    "po.check_konto_zwischenstand(spieler, bank, geld_einsatz, n_spieler)"
   ]
  },
  {
   "cell_type": "markdown",
   "metadata": {},
   "source": [
    "### Runde 3 (vierte Karte)"
   ]
  },
  {
   "cell_type": "code",
   "execution_count": 20,
   "metadata": {},
   "outputs": [
    {
     "name": "stdout",
     "output_type": "stream",
     "text": [
      "     ♠ 6    --    ♣ 7    --    ♠ 8    --    ♦ 6\n"
     ]
    },
    {
     "data": {
      "image/png": "[encoded data removed]",
      "text/plain": [
       "<Figure size 432x288 with 1 Axes>"
      ]
     },
     "metadata": {
      "needs_background": "light"
     },
     "output_type": "display_data"
    }
   ],
   "source": [
    "#po.offenlegen(\"null\", karten_im_spiel, n_spieler)\n",
    "po.offenlegen(\"turn\", po.karten_ziehen(seed, n_spieler, offene_karten), n_spieler)\n",
    "#clear_output() # loesche output"
   ]
  },
  {
   "cell_type": "code",
   "execution_count": 21,
   "metadata": {},
   "outputs": [
    {
     "name": "stdout",
     "output_type": "stream",
     "text": [
      "Anton: check\n",
      "Einsatz insgesamt Anton: 6\n",
      "Einsatz insgesamt Rafa: out\n",
      "Einsatz insgesamt Tico: out\n",
      "Alex: check\n",
      "Einsatz insgesamt Alex: 6\n",
      "Einsatz insgesamt Jens: out\n",
      "\n",
      "Go\n",
      "\n",
      "\n",
      "Pot:  14\n"
     ]
    }
   ],
   "source": [
    "# Einsätze\n",
    "geld_einsatz = po.bieten(geld_einsatz, als_erster, spieler, n_spieler, spieler_dict, fold, bank, small_b)\n",
    "total_pot = po.pot(geld_einsatz)"
   ]
  },
  {
   "cell_type": "markdown",
   "metadata": {},
   "source": [
    "### Runde 4 (fünfte Karte)"
   ]
  },
  {
   "cell_type": "code",
   "execution_count": 22,
   "metadata": {},
   "outputs": [
    {
     "name": "stdout",
     "output_type": "stream",
     "text": [
      "     ♠ 6    --    ♣ 7    --    ♠ 8    --    ♦ 6     --     ♣ 3\n"
     ]
    },
    {
     "data": {
      "image/png": "[encoded data removed]",
      "text/plain": [
       "<Figure size 432x288 with 1 Axes>"
      ]
     },
     "metadata": {
      "needs_background": "light"
     },
     "output_type": "display_data"
    }
   ],
   "source": [
    "#po.offenlegen(\"null\", karten_im_spiel, n_spieler)\n",
    "po.offenlegen(\"river\", po.karten_ziehen(seed, n_spieler, offene_karten), n_spieler)\n",
    "#clear_output() # loesche output"
   ]
  },
  {
   "cell_type": "code",
   "execution_count": 23,
   "metadata": {},
   "outputs": [
    {
     "name": "stdout",
     "output_type": "stream",
     "text": [
      "Anton: 10\n",
      "Einsatz insgesamt Anton: 16\n",
      "Einsatz insgesamt Rafa: out\n",
      "Einsatz insgesamt Tico: out\n",
      "Alex: 10\n",
      "Einsatz insgesamt Alex: 16\n",
      "Einsatz insgesamt Jens: out\n",
      "\n",
      "Go\n",
      "\n",
      "\n",
      "Pot:  34\n"
     ]
    }
   ],
   "source": [
    "# Einsätze\n",
    "geld_einsatz = po.bieten(geld_einsatz, als_erster, spieler, n_spieler, spieler_dict, fold, bank, small_b)\n",
    "total_pot = po.pot(geld_einsatz)"
   ]
  },
  {
   "cell_type": "code",
   "execution_count": 24,
   "metadata": {
    "scrolled": true
   },
   "outputs": [
    {
     "name": "stdout",
     "output_type": "stream",
     "text": [
      "Anton\n",
      "     ♣ 9     --     ♦ D\n"
     ]
    },
    {
     "data": {
      "image/png": "[encoded data removed]",
      "text/plain": [
       "<Figure size 432x288 with 1 Axes>"
      ]
     },
     "metadata": {
      "needs_background": "light"
     },
     "output_type": "display_data"
    },
    {
     "name": "stdout",
     "output_type": "stream",
     "text": [
      "Alex\n",
      "     ♦ 10     --     ♥ B\n"
     ]
    },
    {
     "data": {
      "image/png": "[encoded data removed]",
      "text/plain": [
       "<Figure size 432x288 with 1 Axes>"
      ]
     },
     "metadata": {
      "needs_background": "light"
     },
     "output_type": "display_data"
    },
    {
     "name": "stdout",
     "output_type": "stream",
     "text": [
      "     ♠ 6    --    ♣ 7    --    ♠ 8    --    ♦ 6     --     ♣ 3\n"
     ]
    },
    {
     "data": {
      "image/png": "[encoded data removed]",
      "text/plain": [
       "<Figure size 432x288 with 1 Axes>"
      ]
     },
     "metadata": {
      "needs_background": "light"
     },
     "output_type": "display_data"
    }
   ],
   "source": [
    "# offenlegen der Karten\n",
    "po.siehe_karten(\"Anton\", Anton, schlüssel1 * po.mult, schlüssel2 * po.mult, spieler)\n",
    "#po.siehe_karten(\"Rafa\", Rafa, schlüssel3 * po.mult, schlüssel4 * po.mult, spieler)\n",
    "#po.siehe_karten(\"Tico\", Tico, schlüssel5 * po.mult, schlüssel6 * po.mult, spieler)\n",
    "po.siehe_karten(\"Alex\", Alex, schlüssel7 * po.mult, schlüssel8 * po.mult, spieler)\n",
    "#po.siehe_karten(\"Jens\", Jens, schlüssel9 * po.mult, schlüssel10 * po.mult, spieler)\n",
    "\n",
    "# und auf dem Tisch\n",
    "#po.offenlegen(\"null\", karten_im_spiel, n_spieler)\n",
    "po.offenlegen(\"river\", po.karten_ziehen(seed, n_spieler, offene_karten), n_spieler)\n",
    "#clear_output() # loesche output"
   ]
  },
  {
   "cell_type": "markdown",
   "metadata": {},
   "source": [
    "### Sieger ermitteln"
   ]
  },
  {
   "cell_type": "code",
   "execution_count": null,
   "metadata": {
    "scrolled": false
   },
   "outputs": [],
   "source": [
    "# der pot geht an den Sieger (alle anderen verlieren)\n",
    "po.sieger(\"Rafa\", bank, geld_einsatz, total_pot, spieler)\n"
   ]
  },
  {
   "cell_type": "code",
   "execution_count": null,
   "metadata": {},
   "outputs": [],
   "source": [
    "# Einsätze wieder zurücksetzen\n",
    "for spieler_nr in range(0,8):\n",
    "    geld_einsatz[spieler_nr][0] = start"
   ]
  },
  {
   "cell_type": "markdown",
   "metadata": {},
   "source": [
    "#### Sonderfälle"
   ]
  },
  {
   "cell_type": "code",
   "execution_count": null,
   "metadata": {},
   "outputs": [],
   "source": [
    "# falls Gewinn anders aufgeteilt wird individuell eingeben:\n",
    "# Bsp. Spieler 1 geht all in und Spieler 5 und 6 gehen mit, haben aber mehr Geld auf dem Konto\n",
    "# und am Ende gewinnt Spieler 1 vor Spieler 4\n",
    "bank[0] += geld_einsatz[0] * 3\n",
    "bank[1] -= geld_einsatz[1]\n",
    "bank[2] -= geld_einsatz[2]\n",
    "bank[3] -= geld_einsatz[3]\n",
    "bank[4] -= geld_einsatz[0] - geld_einsatz[4] + geld_einsatz[5]\n",
    "bank[5] -= geld_einsatz[5]\n",
    "bank[6] -= geld_einsatz[6]\n",
    "bank[7] -= geld_einsatz[7]"
   ]
  },
  {
   "cell_type": "code",
   "execution_count": null,
   "metadata": {},
   "outputs": [],
   "source": [
    "# bei split pot scheibe drehen wer gewinnt\n",
    "# erster\n",
    "po.rotating_disc()"
   ]
  },
  {
   "cell_type": "code",
   "execution_count": null,
   "metadata": {},
   "outputs": [],
   "source": [
    "# zweiter\n",
    "po.rotating_disc()"
   ]
  },
  {
   "cell_type": "code",
   "execution_count": null,
   "metadata": {},
   "outputs": [],
   "source": [
    "# gehe wieder zum Spielstart...\n"
   ]
  }
 ],
 "metadata": {
  "kernelspec": {
   "display_name": "Python 3",
   "language": "python",
   "name": "python3"
  },
  "language_info": {
   "codemirror_mode": {
    "name": "ipython",
    "version": 3
   },
   "file_extension": ".py",
   "mimetype": "text/x-python",
   "name": "python",
   "nbconvert_exporter": "python",
   "pygments_lexer": "ipython3",
   "version": "3.7.4"
  }
 },
 "nbformat": 4,
 "nbformat_minor": 4
}
