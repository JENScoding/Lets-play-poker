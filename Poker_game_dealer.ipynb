{
 "cells": [
  {
   "cell_type": "markdown",
   "metadata": {},
   "source": [
    "# Dealer Script"
   ]
  },
  {
   "cell_type": "code",
   "execution_count": 1,
   "metadata": {},
   "outputs": [],
   "source": [
    "import numpy as np\n",
    "import random\n",
    "import matplotlib.pyplot as plt\n",
    "import play_poker as po "
   ]
  },
  {
   "cell_type": "markdown",
   "metadata": {},
   "source": [
    "## Wer spielt?"
   ]
  },
  {
   "cell_type": "code",
   "execution_count": 2,
   "metadata": {},
   "outputs": [],
   "source": [
    "# lege die Spieler fest\n",
    "spieler = (\"Spieler: \", \"Anton\", \"Rafa\", \"Tico\", \"Alex\", \"Jens\", \"\", \"\", \"\")\n",
    "\n",
    "n_spieler = 5\n",
    "offene_karten = 5\n",
    "\n",
    "spieler_dict = {}\n",
    "for index in range(1, (n_spieler + 1)):\n",
    "    spieler_dict[index] = spieler[index]"
   ]
  },
  {
   "cell_type": "markdown",
   "metadata": {},
   "source": [
    "---\n",
    "\n",
    "---\n",
    "\n",
    "---\n",
    "\n",
    "---\n",
    "\n",
    "---\n",
    "\n",
    "---\n",
    "\n",
    "---\n",
    "\n",
    "---\n",
    "\n",
    "---\n",
    "\n",
    "---\n",
    "\n",
    "---\n",
    "\n",
    "---\n",
    "\n",
    "#### Nur für Dealer"
   ]
  },
  {
   "cell_type": "code",
   "execution_count": 3,
   "metadata": {},
   "outputs": [],
   "source": [
    "Schlüssel = 2"
   ]
  },
  {
   "cell_type": "code",
   "execution_count": 4,
   "metadata": {},
   "outputs": [],
   "source": [
    "# Anton:\n",
    "schlüssel1 = po.a1\n",
    "schlüssel2 = po.b1\n",
    "\n",
    "# Rafa\n",
    "schlüssel3 = po.c1\n",
    "schlüssel4 = po.d1\n",
    "\n",
    "# Tico: \n",
    "schlüssel5 = po.e1\n",
    "schlüssel6 = po.f1\n",
    "\n",
    "# Alex:\n",
    "schlüssel7 = po.g1\n",
    "schlüssel8 = po.h1\n",
    "\n",
    "# Jens:\n",
    "schlüssel9 = po.i1\n",
    "schlüssel10 = po.j1\n",
    "\n",
    "# Johnny: \n",
    "schlüssel11 = po.k1\n",
    "schlüssel12 = po.l1\n",
    "\n",
    "# Jonas:\n",
    "schlüssel13 = po.m1\n",
    "schlüssel14 = po.n1\n",
    "\n",
    "# Quentin:\n",
    "schlüssel15 = po.o1\n",
    "schlüssel16 = po.p1"
   ]
  },
  {
   "cell_type": "markdown",
   "metadata": {},
   "source": [
    "---\n",
    "\n",
    "---\n",
    "\n",
    "---\n",
    "\n",
    "---\n",
    "\n",
    "---\n",
    "\n",
    "---\n",
    "\n",
    "---\n",
    "\n",
    "---\n",
    "\n",
    "---"
   ]
  },
  {
   "cell_type": "markdown",
   "metadata": {},
   "source": [
    "### Vor dem Spiel festzulegen:"
   ]
  },
  {
   "cell_type": "code",
   "execution_count": 5,
   "metadata": {},
   "outputs": [],
   "source": [
    "# Start-Geld\n",
    "start_geld = 100\n",
    "konto_sp1 = np.array([start_geld])\n",
    "konto_sp2 = np.array([start_geld])\n",
    "konto_sp3 = np.array([start_geld])\n",
    "konto_sp4 = np.array([start_geld])\n",
    "konto_sp5 = np.array([start_geld])\n",
    "konto_sp6 = np.array([start_geld])\n",
    "konto_sp7 = np.array([start_geld])\n",
    "konto_sp8 = np.array([start_geld])\n",
    "bank = [konto_sp1, konto_sp2, konto_sp3, konto_sp4, \n",
    "        konto_sp5, konto_sp6, konto_sp7, konto_sp8]"
   ]
  },
  {
   "cell_type": "code",
   "execution_count": 6,
   "metadata": {},
   "outputs": [],
   "source": [
    "# Geldeinsätze\n",
    "start = 0\n",
    "einsatz_spieler1 = np.array([start])\n",
    "einsatz_spieler2 = np.array([start])\n",
    "einsatz_spieler3 = np.array([start])\n",
    "einsatz_spieler4 = np.array([start])\n",
    "einsatz_spieler5 = np.array([start])\n",
    "einsatz_spieler6 = np.array([start])\n",
    "einsatz_spieler7 = np.array([start])\n",
    "einsatz_spieler8 = np.array([start])\n",
    "geld_einsatz = [einsatz_spieler1, einsatz_spieler2, einsatz_spieler3,\n",
    "                einsatz_spieler4, einsatz_spieler5, einsatz_spieler6,\n",
    "                einsatz_spieler7, einsatz_spieler8]"
   ]
  },
  {
   "cell_type": "markdown",
   "metadata": {},
   "source": [
    "---\n",
    "\n",
    "---\n",
    "\n",
    "---\n",
    "\n",
    "---\n",
    "\n",
    "---\n",
    "\n",
    "---\n",
    "\n",
    "---\n",
    "\n",
    "---\n",
    "\n",
    "---\n",
    "\n",
    "---\n",
    "\n",
    "---\n",
    "\n",
    "---\n",
    "\n",
    "---"
   ]
  },
  {
   "cell_type": "markdown",
   "metadata": {},
   "source": [
    "## Spielstart"
   ]
  },
  {
   "cell_type": "code",
   "execution_count": 7,
   "metadata": {},
   "outputs": [],
   "source": [
    "spiel_runde = 3 # da 5 spieler dabei sind, ist nach Runde 5 wieder Runde 1"
   ]
  },
  {
   "cell_type": "code",
   "execution_count": 8,
   "metadata": {},
   "outputs": [],
   "source": [
    "# Blinds festlegen\n",
    "big_b = 2\n",
    "small_b = 1 "
   ]
  },
  {
   "cell_type": "code",
   "execution_count": 9,
   "metadata": {
    "scrolled": true
   },
   "outputs": [
    {
     "name": "stdout",
     "output_type": "stream",
     "text": [
      "{'Anton': 100, 'Rafa': 100, 'Tico': 100, 'Alex': 100, 'Jens': 100}\n"
     ]
    }
   ],
   "source": [
    "# aktueller Geldstand\n",
    "po.aktueller_stand(spieler, bank, n_spieler, start_geld)"
   ]
  },
  {
   "cell_type": "code",
   "execution_count": 10,
   "metadata": {
    "scrolled": true
   },
   "outputs": [
    {
     "name": "stdout",
     "output_type": "stream",
     "text": [
      "1572\n"
     ]
    }
   ],
   "source": [
    "# lege den seed fest\n",
    "seed = int(np.random.randint(1,9999,1))\n",
    "print(seed)"
   ]
  },
  {
   "cell_type": "code",
   "execution_count": 11,
   "metadata": {},
   "outputs": [],
   "source": [
    "karten_im_spiel = po.alle_karten(seed, n_spieler, offene_karten)"
   ]
  },
  {
   "cell_type": "code",
   "execution_count": 12,
   "metadata": {},
   "outputs": [],
   "source": [
    "Anton = [karten_im_spiel[Schlüssel][schlüssel1], karten_im_spiel[Schlüssel][schlüssel2]]\n",
    "Rafa = [karten_im_spiel[Schlüssel][schlüssel3], karten_im_spiel[Schlüssel][schlüssel4]]\n",
    "Tico = [karten_im_spiel[Schlüssel][schlüssel5], karten_im_spiel[Schlüssel][schlüssel6]]\n",
    "Alex = [karten_im_spiel[Schlüssel][schlüssel7], karten_im_spiel[Schlüssel][schlüssel8]]\n",
    "Jens = [karten_im_spiel[Schlüssel][schlüssel9], karten_im_spiel[Schlüssel][schlüssel10]]"
   ]
  },
  {
   "cell_type": "markdown",
   "metadata": {},
   "source": [
    "### Runde 1 (Einsatz legen)"
   ]
  },
  {
   "cell_type": "code",
   "execution_count": 13,
   "metadata": {
    "scrolled": true
   },
   "outputs": [
    {
     "name": "stdout",
     "output_type": "stream",
     "text": [
      "Small Blind:  Tico  ->  1\n",
      "Big Blind:    Alex  ->  2\n",
      "Beginn:       Jens\n"
     ]
    }
   ],
   "source": [
    "als_erster = po.info_blinds(spieler, spiel_runde, n_spieler, small_b, big_b)"
   ]
  },
  {
   "cell_type": "code",
   "execution_count": 14,
   "metadata": {},
   "outputs": [
    {
     "name": "stdout",
     "output_type": "stream",
     "text": [
      "{1: 'Anton', 2: 'Rafa', 3: 'Tico', 4: 'Alex', 5: 'Jens'}\n"
     ]
    }
   ],
   "source": [
    "# wer hat welche Spielernummer\n",
    "print(spieler_dict)"
   ]
  },
  {
   "cell_type": "code",
   "execution_count": 15,
   "metadata": {},
   "outputs": [
    {
     "name": "stdout",
     "output_type": "stream",
     "text": [
      "\n",
      "Go\n",
      "\n"
     ]
    }
   ],
   "source": [
    "# erstes bieten (blinds legen)                                    \n",
    "einsatz_spieler1 += 2\n",
    "einsatz_spieler2 += 2\n",
    "einsatz_spieler3 += 2\n",
    "einsatz_spieler4 += 2\n",
    "einsatz_spieler5 += 2\n",
    "einsatz_spieler6 += 0\n",
    "einsatz_spieler7 += 0\n",
    "einsatz_spieler8 += 0\n",
    "po.check_konto_limit(bank, geld_einsatz)"
   ]
  },
  {
   "cell_type": "code",
   "execution_count": 16,
   "metadata": {
    "scrolled": true
   },
   "outputs": [
    {
     "name": "stdout",
     "output_type": "stream",
     "text": [
      "10\n"
     ]
    }
   ],
   "source": [
    "total_pot = po.pot(geld_einsatz)\n",
    "print(total_pot)"
   ]
  },
  {
   "cell_type": "markdown",
   "metadata": {},
   "source": [
    "### Runde 2 (ersten drei Karten)"
   ]
  },
  {
   "cell_type": "code",
   "execution_count": 17,
   "metadata": {
    "scrolled": false
   },
   "outputs": [
    {
     "name": "stdout",
     "output_type": "stream",
     "text": [
      "     ♥ 3    --    ♦ 6    --    ♥ 4\n"
     ]
    },
    {
     "data": {
      "image/png": "[encoded data removed]",
      "text/plain": [
       "<Figure size 432x288 with 1 Axes>"
      ]
     },
     "metadata": {
      "needs_background": "light"
     },
     "output_type": "display_data"
    },
    {
     "name": "stdout",
     "output_type": "stream",
     "text": [
      "---------\n",
      "{1: 'Anton', 2: 'Rafa', 3: 'Tico', 4: 'Alex', 5: 'Jens'}\n",
      "---------\n",
      "Beginn:       Jens\n"
     ]
    }
   ],
   "source": [
    "#po.offenlegen(\"null\", karten_im_spiel, n_spieler)\n",
    "po.offenlegen(\"flop\", karten_im_spiel, n_spieler)\n",
    "# wer hat welche Spielernummer\n",
    "print(\"---------\")\n",
    "print(spieler_dict)\n",
    "print(\"---------\")\n",
    "# wer fängt an zu setzen\n",
    "print(\"Beginn:      \", als_erster)"
   ]
  },
  {
   "cell_type": "code",
   "execution_count": 18,
   "metadata": {
    "scrolled": true
   },
   "outputs": [
    {
     "name": "stdout",
     "output_type": "stream",
     "text": [
      "\n",
      "Go\n",
      "\n"
     ]
    }
   ],
   "source": [
    "# Einsätze\n",
    "einsatz_spieler1 += 0\n",
    "einsatz_spieler2 += 0 \n",
    "einsatz_spieler3 += 0\n",
    "einsatz_spieler4 += 0\n",
    "einsatz_spieler5 += 0\n",
    "einsatz_spieler6 += 0\n",
    "einsatz_spieler7 += 0\n",
    "einsatz_spieler8 += 0\n",
    "po.check_konto_limit(bank, geld_einsatz)"
   ]
  },
  {
   "cell_type": "code",
   "execution_count": 19,
   "metadata": {},
   "outputs": [
    {
     "name": "stdout",
     "output_type": "stream",
     "text": [
      "{'Anton': 98, 'Rafa': 98, 'Tico': 98, 'Alex': 98, 'Jens': 98}\n"
     ]
    }
   ],
   "source": [
    "# check wie viel jeder nach Einsatz noch auf dem Konto hat\n",
    "po.check_konto_zwischenstand(spieler, bank, geld_einsatz, n_spieler)"
   ]
  },
  {
   "cell_type": "code",
   "execution_count": 20,
   "metadata": {},
   "outputs": [
    {
     "name": "stdout",
     "output_type": "stream",
     "text": [
      "10\n"
     ]
    }
   ],
   "source": [
    "total_pot = po.pot(geld_einsatz)\n",
    "print(total_pot)"
   ]
  },
  {
   "cell_type": "markdown",
   "metadata": {},
   "source": [
    "### Runde 3 (vierte Karte)"
   ]
  },
  {
   "cell_type": "code",
   "execution_count": 21,
   "metadata": {},
   "outputs": [
    {
     "name": "stdout",
     "output_type": "stream",
     "text": [
      "     ♥ 3    --    ♦ 6    --    ♥ 4    --    ♠ 5\n"
     ]
    },
    {
     "data": {
      "image/png": "[encoded data removed]",
      "text/plain": [
       "<Figure size 432x288 with 1 Axes>"
      ]
     },
     "metadata": {
      "needs_background": "light"
     },
     "output_type": "display_data"
    },
    {
     "name": "stdout",
     "output_type": "stream",
     "text": [
      "---------\n",
      "{1: 'Anton', 2: 'Rafa', 3: 'Tico', 4: 'Alex', 5: 'Jens'}\n",
      "---------\n",
      "Beginn:       Jens\n"
     ]
    }
   ],
   "source": [
    "#po.offenlegen(\"null\", karten_im_spiel, n_spieler)\n",
    "po.offenlegen(\"turn\", karten_im_spiel, n_spieler)\n",
    "print(\"---------\")\n",
    "print(spieler_dict)\n",
    "print(\"---------\")\n",
    "print(\"Beginn:      \", als_erster)"
   ]
  },
  {
   "cell_type": "code",
   "execution_count": 22,
   "metadata": {},
   "outputs": [
    {
     "name": "stdout",
     "output_type": "stream",
     "text": [
      "\n",
      "Go\n",
      "\n"
     ]
    }
   ],
   "source": [
    "# Einsätze\n",
    "einsatz_spieler1 += 0\n",
    "einsatz_spieler2 += 20 \n",
    "einsatz_spieler3 += 8\n",
    "einsatz_spieler4 += 0\n",
    "einsatz_spieler5 += 0\n",
    "einsatz_spieler6 += 0\n",
    "einsatz_spieler7 += 0\n",
    "einsatz_spieler8 += 0\n",
    "po.check_konto_limit(bank, geld_einsatz)"
   ]
  },
  {
   "cell_type": "code",
   "execution_count": 23,
   "metadata": {},
   "outputs": [
    {
     "name": "stdout",
     "output_type": "stream",
     "text": [
      "38\n"
     ]
    }
   ],
   "source": [
    "total_pot = po.pot(geld_einsatz)\n",
    "print(total_pot)"
   ]
  },
  {
   "cell_type": "markdown",
   "metadata": {},
   "source": [
    "### Runde 4 (fünfte Karte)"
   ]
  },
  {
   "cell_type": "code",
   "execution_count": 24,
   "metadata": {},
   "outputs": [
    {
     "name": "stdout",
     "output_type": "stream",
     "text": [
      "     ♥ 3    --    ♦ 6    --    ♥ 4    --    ♠ 5     --     ♦ 3\n"
     ]
    },
    {
     "data": {
      "image/png": "[encoded data removed]",
      "text/plain": [
       "<Figure size 432x288 with 1 Axes>"
      ]
     },
     "metadata": {
      "needs_background": "light"
     },
     "output_type": "display_data"
    },
    {
     "name": "stdout",
     "output_type": "stream",
     "text": [
      "---------\n",
      "{1: 'Anton', 2: 'Rafa', 3: 'Tico', 4: 'Alex', 5: 'Jens'}\n",
      "---------\n",
      "Beginn:       Jens\n"
     ]
    }
   ],
   "source": [
    "#po.offenlegen(\"null\", karten_im_spiel, n_spieler)\n",
    "po.offenlegen(\"river\", karten_im_spiel, n_spieler)\n",
    "print(\"---------\")\n",
    "print(spieler_dict)\n",
    "print(\"---------\")\n",
    "print(\"Beginn:      \", als_erster)"
   ]
  },
  {
   "cell_type": "code",
   "execution_count": 25,
   "metadata": {},
   "outputs": [],
   "source": [
    "# Einsätze\n",
    "einsatz_spieler1 += 0\n",
    "einsatz_spieler2 += 0 \n",
    "einsatz_spieler3 += 0\n",
    "einsatz_spieler4 += 0\n",
    "einsatz_spieler5 += 0\n",
    "einsatz_spieler6 += 0\n",
    "einsatz_spieler7 += 0\n",
    "einsatz_spieler8 += 0"
   ]
  },
  {
   "cell_type": "code",
   "execution_count": 26,
   "metadata": {
    "scrolled": true
   },
   "outputs": [
    {
     "name": "stdout",
     "output_type": "stream",
     "text": [
      "38\n"
     ]
    }
   ],
   "source": [
    "total_pot = po.pot(geld_einsatz)\n",
    "print(total_pot)"
   ]
  },
  {
   "cell_type": "code",
   "execution_count": 27,
   "metadata": {
    "scrolled": false
   },
   "outputs": [
    {
     "name": "stdout",
     "output_type": "stream",
     "text": [
      "Anton\n",
      "     ♦ 4     --     ♦ D\n"
     ]
    },
    {
     "data": {
      "image/png": "[encoded data removed]",
      "text/plain": [
       "<Figure size 432x288 with 1 Axes>"
      ]
     },
     "metadata": {
      "needs_background": "light"
     },
     "output_type": "display_data"
    },
    {
     "name": "stdout",
     "output_type": "stream",
     "text": [
      "Rafa\n",
      "     ♥ B     --     ♣ 5\n"
     ]
    },
    {
     "data": {
      "image/png": "[encoded data removed]",
      "text/plain": [
       "<Figure size 432x288 with 1 Axes>"
      ]
     },
     "metadata": {
      "needs_background": "light"
     },
     "output_type": "display_data"
    },
    {
     "name": "stdout",
     "output_type": "stream",
     "text": [
      "Tico\n",
      "     ♠ 10     --     ♥ 8\n"
     ]
    },
    {
     "data": {
      "image/png": "[encoded data removed]",
      "text/plain": [
       "<Figure size 432x288 with 1 Axes>"
      ]
     },
     "metadata": {
      "needs_background": "light"
     },
     "output_type": "display_data"
    },
    {
     "name": "stdout",
     "output_type": "stream",
     "text": [
      "Alex\n",
      "     ♠ 3     --     ♣ B\n"
     ]
    },
    {
     "data": {
      "image/png": "[encoded data removed]",
      "text/plain": [
       "<Figure size 432x288 with 1 Axes>"
      ]
     },
     "metadata": {
      "needs_background": "light"
     },
     "output_type": "display_data"
    },
    {
     "name": "stdout",
     "output_type": "stream",
     "text": [
      "Jens\n",
      "     ♦ B     --     ♣ 9\n"
     ]
    },
    {
     "data": {
      "image/png": "[encoded data removed]",
      "text/plain": [
       "<Figure size 432x288 with 1 Axes>"
      ]
     },
     "metadata": {
      "needs_background": "light"
     },
     "output_type": "display_data"
    },
    {
     "name": "stdout",
     "output_type": "stream",
     "text": [
      "     ♥ 3    --    ♦ 6    --    ♥ 4    --    ♠ 5     --     ♦ 3\n"
     ]
    },
    {
     "data": {
      "image/png": "[encoded data removed]",
      "text/plain": [
       "<Figure size 432x288 with 1 Axes>"
      ]
     },
     "metadata": {
      "needs_background": "light"
     },
     "output_type": "display_data"
    }
   ],
   "source": [
    "# offenlegen der Karten\n",
    "po.siehe_karten(\"Anton\", Anton, schlüssel1, schlüssel2, spieler)\n",
    "po.siehe_karten(\"Rafa\", Rafa, schlüssel3, schlüssel4, spieler)\n",
    "po.siehe_karten(\"Tico\", Tico, schlüssel5, schlüssel6, spieler)\n",
    "po.siehe_karten(\"Alex\", Alex, schlüssel7, schlüssel8, spieler)\n",
    "po.siehe_karten(\"Jens\", Jens, schlüssel9, schlüssel10, spieler)\n",
    "\n",
    "# und auf dem Tisch\n",
    "#po.offenlegen(\"null\", karten_im_spiel, n_spieler)\n",
    "po.offenlegen(\"river\", karten_im_spiel, n_spieler)"
   ]
  },
  {
   "cell_type": "code",
   "execution_count": 28,
   "metadata": {
    "scrolled": false
   },
   "outputs": [],
   "source": [
    "# der pot geht an den Sieger (alle anderen verlieren)\n",
    "po.sieger(\"Rafa\", bank, geld_einsatz, total_pot, spieler)\n"
   ]
  },
  {
   "cell_type": "code",
   "execution_count": 29,
   "metadata": {},
   "outputs": [],
   "source": [
    "# Einsätze wieder zurücksetzen\n",
    "for spieler_nr in range(0,8):\n",
    "    geld_einsatz[spieler_nr][0] = start"
   ]
  },
  {
   "cell_type": "code",
   "execution_count": 30,
   "metadata": {},
   "outputs": [
    {
     "name": "stdout",
     "output_type": "stream",
     "text": [
      "[5]\n",
      "[2]\n",
      "[5]\n",
      "[2]\n",
      "[1]\n",
      "[5]\n",
      "[4]\n",
      "[1]\n",
      "[1]\n",
      "[3]\n"
     ]
    }
   ],
   "source": [
    "# bei split pot würfeln wer gewinnt\n",
    "# erster\n",
    "nn = np.random.randint(400000,900000,1)[0]\n",
    "for rollen in range(1,nn):\n",
    "    wurf_1 = np.random.randint(1,7,1)\n",
    "    if (rollen / 80000).is_integer():\n",
    "        print(wurf_1)\n",
    "    else:\n",
    "        continue "
   ]
  },
  {
   "cell_type": "code",
   "execution_count": 31,
   "metadata": {},
   "outputs": [
    {
     "name": "stdout",
     "output_type": "stream",
     "text": [
      "[4]\n",
      "[1]\n",
      "[1]\n",
      "[6]\n",
      "[2]\n",
      "[4]\n",
      "[4]\n",
      "[1]\n",
      "[5]\n"
     ]
    }
   ],
   "source": [
    "# zweiter\n",
    "nn = np.random.randint(400000,900000,1)[0]\n",
    "for rollen in range(1,nn):\n",
    "    wurf_2 = np.random.randint(1,7,1)\n",
    "    if (rollen / 80000).is_integer():\n",
    "        print(wurf_2)\n",
    "    else:\n",
    "        continue "
   ]
  },
  {
   "cell_type": "code",
   "execution_count": 32,
   "metadata": {},
   "outputs": [],
   "source": [
    "# gehe wieder zum Spielstart...\n"
   ]
  }
 ],
 "metadata": {
  "kernelspec": {
   "display_name": "Python 3",
   "language": "python",
   "name": "python3"
  },
  "language_info": {
   "codemirror_mode": {
    "name": "ipython",
    "version": 3
   },
   "file_extension": ".py",
   "mimetype": "text/x-python",
   "name": "python",
   "nbconvert_exporter": "python",
   "pygments_lexer": "ipython3",
   "version": "3.7.4"
  }
 },
 "nbformat": 4,
 "nbformat_minor": 4
}
